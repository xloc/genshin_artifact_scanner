{
 "cells": [
  {
   "cell_type": "code",
   "execution_count": 1,
   "metadata": {},
   "outputs": [
    {
     "name": "stdout",
     "output_type": "stream",
     "text": [
      "/Users/olir/workspace/genshin_artifact_scanner/scanner/artifacts.yaml\n"
     ]
    }
   ],
   "source": [
    "import cv2 as cv\n",
    "from scanner import ROI\n",
    "import scanner\n",
    "import pytesseract as ocr\n",
    "import parse_frame\n",
    "\n",
    "def imshow(image):\n",
    "    ww = 1024\n",
    "    h, w = image.shape[:2]\n",
    "\n",
    "    if w > ww:\n",
    "        hh = int(ww / w * h)\n",
    "        image = cv.resize(image, dsize=[ww, hh])\n",
    "\n",
    "    _, ret = cv.imencode('.jpg', image) \n",
    "\n",
    "    from IPython.display import display, Image\n",
    "    display(Image(data=ret))\n",
    "cv.imshow = imshow"
   ]
  },
  {
   "cell_type": "code",
   "execution_count": 2,
   "metadata": {},
   "outputs": [
    {
     "name": "stdout",
     "output_type": "stream",
     "text": [
      "test_video.mp4\n"
     ]
    }
   ],
   "source": [
    "from scanner import frame_reader, ArtifactROI, ScreenState\n",
    "import dataclasses\n",
    "filename = frame_reader.get_test_video_path()\n",
    "print(filename)\n",
    "reader = frame_reader.FrameReader(filename, time=0, interval=0.02)\n",
    "\n",
    "roi = ArtifactROI(\n",
    "    main=[1214, 150, 1500, 430],\n",
    "    sub=[1230, 590, 1800, 790],\n",
    "    level=[1251, 530, 1324, 570],\n",
    "    title=[1640, 35, 1869, 82],\n",
    ")\n",
    "state = ScreenState(roi)\n",
    "\n",
    "artifacts = []\n",
    "\n",
    "  \n"
   ]
  },
  {
   "cell_type": "code",
   "execution_count": 3,
   "metadata": {},
   "outputs": [
    {
     "name": "stdout",
     "output_type": "stream",
     "text": [
      "ArtifactROI(main=[303, 37, 375, 107], sub=[307, 147, 450, 197], level=[312, 132, 331, 142], title=[410, 8, 467, 20])\n"
     ]
    }
   ],
   "source": [
    "while True:\n",
    "  frame = reader.next()\n",
    "  if not state.is_same(frame):\n",
    "    break\n"
   ]
  },
  {
   "cell_type": "code",
   "execution_count": 4,
   "metadata": {},
   "outputs": [],
   "source": [
    "  # _, mask = cv.threshold(slice, 0, 255, cv.THRESH_BINARY+cv.THRESH_OTSU)\n",
    "  # print(mask[0,0], mask.min())\n",
    "  # # slice &= ~mask * 0xFF\n",
    "  # # slice = cv.equalizeHist(slice)\n",
    "\n",
    "  # print(repr(text)); cv.imshow(slice)\n",
    "\n",
    "  # cv.imshow(allroi.main.clip_image(gray))\n",
    "  # for roi in text_rois:\n",
    "  #   cv.imshow(roi.clip_image(gray))\n",
    "  # text_rois.sort(key=lambda r: r.y1)"
   ]
  },
  {
   "cell_type": "code",
   "execution_count": 5,
   "metadata": {},
   "outputs": [
    {
     "name": "stdout",
     "output_type": "stream",
     "text": [
      "0.0000 {'set_name': '流放者', 'sub_stats': {'防御力': '19', '元素精通': '13', '生命值': '3.3%', '攻击力': '12'}, 'type': '时之沙', 'main_stat_name': '攻击力', 'main_stat_value': '22.3%', 'level': '9'}\n"
     ]
    }
   ],
   "source": [
    "from parse_frame import (\n",
    "  ArtifactFields, \n",
    "  find_artifact_set_name_roi, \n",
    "  find_sub_stats_roi, \n",
    "  find_all_text_roi_in_range, \n",
    "  allroi\n",
    ")\n",
    "\n",
    "# allroi.main = ROI(1214, 230, 1600, 430)\n",
    "allroi.main = ROI(1214, 230, 1550, 430)\n",
    "\n",
    "def parse_frame(frame):\n",
    "  gray = cv.cvtColor(frame, cv.COLOR_BGR2GRAY)\n",
    "  artifact = ArtifactFields()\n",
    "\n",
    "  # artifact set name\n",
    "  set_name_roi = find_artifact_set_name_roi(frame)\n",
    "  slice = set_name_roi.clip_image(gray)\n",
    "  slice = 255 - slice\n",
    "  text = ocr.image_to_string(slice, lang=\"chi_sim\", config=\"--psm 6\")\n",
    "  artifact.set_name = scanner.match_artifact_set_name(text)\n",
    "\n",
    "  # substats\n",
    "  sub_stats_roi = find_sub_stats_roi(set_name_roi)\n",
    "  slice = sub_stats_roi.clip_image(gray)\n",
    "  text = ocr.image_to_string(slice, lang=\"chi_sim\")\n",
    "  artifact.sub_stats = scanner.match_sub_stats(text)\n",
    "\n",
    "  # type & main stat name/value\n",
    "  color_range = dict(lo=150, hi=255)\n",
    "  kernel_size = 10,3\n",
    "  kernel_n_iter = 5\n",
    "  text_rois = find_all_text_roi_in_range(gray, allroi.main, color_range, kernel_size, kernel_n_iter)\n",
    "  text_rois.sort(key=lambda r: r.y1)\n",
    "  assert len(text_rois) == 3\n",
    "  artifact_type, main_stat_name, main_stat_value = text_rois\n",
    "  # type\n",
    "  slice = artifact_type.clip_image(gray)\n",
    "  text = ocr.image_to_string(slice, lang=\"chi_sim\")\n",
    "\n",
    "  artifact.type = scanner.match_artifact_type(text)\n",
    "  # main stat name\n",
    "  slice = main_stat_name.clip_image(gray)\n",
    "  slice = 255 - slice\n",
    "  slice = cv.equalizeHist(slice)\n",
    "  text = ocr.image_to_string(slice, lang=\"chi_sim\", config=\"--psm 6\")\n",
    "  artifact.main_stat_name = scanner.match_main_stat_name(text)\n",
    "  # main stat value\n",
    "  slice = main_stat_value.clip_image(gray)\n",
    "  text = ocr.image_to_string(slice, config=\"--psm 6\")\n",
    "  artifact.main_stat_value = scanner.match_main_stat_value(text)\n",
    "\n",
    "  # level\n",
    "  slice = allroi.level.clip_image(gray)\n",
    "  slice = 255 - slice\n",
    "  text = ocr.image_to_string(slice)\n",
    "  artifact.level = scanner.match_level(text)\n",
    "\n",
    "  return artifact\n",
    "\n",
    "\n",
    "info = parse_frame(frame)\n",
    "info = info.__dict__\n",
    "result = dict(time=reader.frame_time, info=info)\n",
    "artifacts.append(result)\n",
    "print(f'{reader.frame_time:.4f}', info)"
   ]
  }
 ],
 "metadata": {
  "kernelspec": {
   "display_name": "Python 3",
   "language": "python",
   "name": "python3"
  },
  "language_info": {
   "codemirror_mode": {
    "name": "ipython",
    "version": 3
   },
   "file_extension": ".py",
   "mimetype": "text/x-python",
   "name": "python",
   "nbconvert_exporter": "python",
   "pygments_lexer": "ipython3",
   "version": "3.10.9"
  },
  "orig_nbformat": 4,
  "vscode": {
   "interpreter": {
    "hash": "b0fa6594d8f4cbf19f97940f81e996739fb7646882a419484c72d19e05852a7e"
   }
  }
 },
 "nbformat": 4,
 "nbformat_minor": 2
}
